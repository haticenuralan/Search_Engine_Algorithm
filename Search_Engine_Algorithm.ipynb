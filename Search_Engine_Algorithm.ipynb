{
  "nbformat": 4,
  "nbformat_minor": 0,
  "metadata": {
    "colab": {
      "provenance": [],
      "authorship_tag": "ABX9TyMjbGnBfhGvvYYdhSm6ntvY",
      "include_colab_link": true
    },
    "kernelspec": {
      "name": "python3",
      "display_name": "Python 3"
    },
    "language_info": {
      "name": "python"
    }
  },
  "cells": [
    {
      "cell_type": "markdown",
      "metadata": {
        "id": "view-in-github",
        "colab_type": "text"
      },
      "source": [
        "<a href=\"https://colab.research.google.com/github/haticenuralan/Search_Engine_Algorithm/blob/main/Search_Engine_Algorithm.ipynb\" target=\"_parent\"><img src=\"https://colab.research.google.com/assets/colab-badge.svg\" alt=\"Open In Colab\"/></a>"
      ]
    },
    {
      "cell_type": "code",
      "execution_count": 1,
      "metadata": {
        "id": "lwj6IPBaVBMT"
      },
      "outputs": [],
      "source": [
        "def get_page(url):\n",
        "  try:\n",
        "    import urllib.request\n",
        "    page = urllib.request.urlopen(url).read()\n",
        "    page = page.decode(\"utf-8\")\n",
        "    return page\n",
        "  except:\n",
        "    return \"\"\n",
        "\n",
        "\n",
        "def get_next_target(page):\n",
        "    start_link = page.find('<a href=')\n",
        "    if start_link == -1:\n",
        "        return None, 0\n",
        "    start_quote = page.find('\"', start_link)\n",
        "    end_quote = page.find('\"', start_quote+1)\n",
        "    url = page[start_quote + 1:end_quote]\n",
        "    return url, end_quote\n",
        "\n",
        "\n",
        "def get_all_links(page):\n",
        "    links = []\n",
        "    while True:\n",
        "      url, endpos = get_next_target(page)\n",
        "      if url:\n",
        "        links.append(url)\n",
        "        page = page[endpos:]\n",
        "      else:\n",
        "        break\n",
        "    return links\n",
        "\n",
        "\n",
        "def union(p,q):\n",
        "    for e in q:\n",
        "        if e not in p:\n",
        "            p.append(e)\n",
        "\n",
        "\n",
        "def add_to_index(index, keyword, url):\n",
        "  if keyword in index:\n",
        "    index[keyword].append(url)\n",
        "  else:\n",
        "    index[keyword] = [url]\n",
        "\n",
        "\n",
        "def getClearPage(content):\n",
        "  title = content[content.find(\"<title>\")+7:content.find(\"</title>\")]\n",
        "  body = content[content.find(\"<body>\")+6:content.find(\"</body>\")]\n",
        "  while body.find(\">\") != -1:\n",
        "    start =  body.find(\"<\")\n",
        "    end =  body.find(\">\")\n",
        "    body = body[:start] + body[end+1:]\n",
        "  return title + body\n",
        "\n",
        "\n",
        "def addPageToIndex(index, url, content):\n",
        "  content = getClearPage(content)\n",
        "  words = content.split()\n",
        "  for word in words:\n",
        "    add_to_index(index, word, url)\n",
        "\n",
        "\n",
        "def lookup(index, keyword):\n",
        "  if keyword in index:\n",
        "    return index[keyword]\n",
        "  else:\n",
        "    return None\n",
        "\n",
        "def computeRanks(graph):\n",
        "  damping = 0.8\n",
        "  numloops = 10\n",
        "  ranks = {}\n",
        "  npages = len(graph)\n",
        "  for page in graph:\n",
        "    ranks[page] = 1/npages\n",
        "  for i in range(0, numloops):\n",
        "    newranks = {}\n",
        "    for page in graph:\n",
        "      newrank = (1-damping)/npages\n",
        "      for node in graph:\n",
        "        if page in graph[node]:\n",
        "          newrank = newrank + damping*(ranks[node]/ len(graph[node]) )\n",
        "      newranks[page] = newrank\n",
        "    ranks = newranks\n",
        "  return ranks\n",
        "\n",
        "\n",
        "def crawlWeb(seed):\n",
        "    tocrawl = [seed]\n",
        "    crawled = []\n",
        "    graph = {}\n",
        "    index = {}\n",
        "    while tocrawl:\n",
        "        page = tocrawl.pop()\n",
        "        if page not in crawled:\n",
        "            content = get_page(page)\n",
        "            addPageToIndex(index, page, content)\n",
        "            outlinks = get_all_links(content)\n",
        "            graph[page] = outlinks\n",
        "            union(tocrawl, outlinks)\n",
        "            crawled.append(page)\n",
        "    return index, graph  # returns index, graph of outlinks now\n",
        "\n",
        "\n",
        "seedpage = \"https://ayaktayolcukalmasin.com.tr/ana_sayfa.html\"\n",
        "index, graph = crawlWeb(seedpage)\n",
        "ranks = computeRanks(graph)"
      ]
    },
    {
      "cell_type": "code",
      "source": [
        "print(f\"The graph has {len(graph)} elements. These are:\")\n",
        "n = 1\n",
        "for key,value in graph.items():\n",
        "  print(\"\\t\"+str(n)+\". \", key, \":\", value)\n",
        "  n = n+1"
      ],
      "metadata": {
        "colab": {
          "base_uri": "https://localhost:8080/"
        },
        "id": "oPeAUQ98WBsi",
        "outputId": "bee358ee-d13d-4e8c-b014-5194e6be25cd"
      },
      "execution_count": 3,
      "outputs": [
        {
          "output_type": "stream",
          "name": "stdout",
          "text": [
            "The graph has 6 elements. These are:\n",
            "\t1.  https://ayaktayolcukalmasin.com.tr/ana_sayfa.html : ['https://ayaktayolcukalmasin.com.tr/ankara.html', 'https://ayaktayolcukalmasin.com.tr/konya.html', 'https://ayaktayolcukalmasin.com.tr/istanbul.html', 'https://ayaktayolcukalmasin.com.tr/oktayrecommends.html', 'https://ayaktayolcukalmasin.com.tr/seymarecommends.html']\n",
            "\t2.  https://ayaktayolcukalmasin.com.tr/seymarecommends.html : ['https://ayaktayolcukalmasin.com.tr/oktayrecommends.html', 'https://ayaktayolcukalmasin.com.tr/konya.html']\n",
            "\t3.  https://ayaktayolcukalmasin.com.tr/oktayrecommends.html : ['https://ayaktayolcukalmasin.com.tr/istanbul.html']\n",
            "\t4.  https://ayaktayolcukalmasin.com.tr/istanbul.html : []\n",
            "\t5.  https://ayaktayolcukalmasin.com.tr/konya.html : ['https://ayaktayolcukalmasin.com.tr/seymarecommends.html']\n",
            "\t6.  https://ayaktayolcukalmasin.com.tr/ankara.html : []\n"
          ]
        }
      ]
    },
    {
      "cell_type": "code",
      "source": [
        "for key, value in ranks.items():\n",
        "  print(\"The rank of the page\", key,\":\\t\", value)"
      ],
      "metadata": {
        "colab": {
          "base_uri": "https://localhost:8080/"
        },
        "id": "A7rfCXSAYeLv",
        "outputId": "548f356e-aff7-4294-e84f-9f25181e20cf"
      },
      "execution_count": null,
      "outputs": [
        {
          "output_type": "stream",
          "name": "stdout",
          "text": [
            "The rank of the page https://ayaktayolcukalmasin.com.tr/ana_sayfa.html :\t 0.033333333333333326\n",
            "The rank of the page https://ayaktayolcukalmasin.com.tr/seymarecommends.html :\t 0.10274769919999999\n",
            "The rank of the page https://ayaktayolcukalmasin.com.tr/oktayrecommends.html :\t 0.07998944255999998\n",
            "The rank of the page https://ayaktayolcukalmasin.com.tr/istanbul.html :\t 0.10274769919999999\n",
            "The rank of the page https://ayaktayolcukalmasin.com.tr/konya.html :\t 0.07998944255999998\n",
            "The rank of the page https://ayaktayolcukalmasin.com.tr/ankara.html :\t 0.038666666666666655\n"
          ]
        }
      ]
    }
  ]
}